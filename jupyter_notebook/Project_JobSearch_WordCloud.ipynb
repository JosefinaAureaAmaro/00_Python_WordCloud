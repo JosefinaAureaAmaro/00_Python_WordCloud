{
 "cells": [
  {
   "cell_type": "code",
   "execution_count": 1,
   "metadata": {},
   "outputs": [],
   "source": [
    "# using GoogleAPIs to read a google sheet to get the links to the job listings\n",
    "import gspread\n",
    "from oauth2client.service_account import ServiceAccountCredentials"
   ]
  },
  {
   "cell_type": "code",
   "execution_count": 2,
   "metadata": {},
   "outputs": [],
   "source": [
    "scope = ['https://spreadsheets.google.com/feeds','https://www.googleapis.com/auth/drive']"
   ]
  },
  {
   "cell_type": "code",
   "execution_count": 3,
   "metadata": {},
   "outputs": [],
   "source": [
    "creds = ServiceAccountCredentials.from_json_keyfile_name('jobsearch_api.json', scope)"
   ]
  },
  {
   "cell_type": "code",
   "execution_count": 4,
   "metadata": {},
   "outputs": [],
   "source": [
    "client = gspread.authorize(creds)"
   ]
  },
  {
   "cell_type": "code",
   "execution_count": 5,
   "metadata": {},
   "outputs": [],
   "source": [
    "sheet = client.open('job_listings').sheet1"
   ]
  },
  {
   "cell_type": "code",
   "execution_count": 6,
   "metadata": {},
   "outputs": [],
   "source": [
    "job_listings_details = sheet.get_all_records()"
   ]
  },
  {
   "cell_type": "code",
   "execution_count": 7,
   "metadata": {},
   "outputs": [
    {
     "data": {
      "text/plain": [
       "[{'Field': 'Accounting',\n",
       "  'Role': 'Senior Staff Accountant',\n",
       "  'Link': 'https://www.linkedin.com/jobs/search/?currentJobId=1520659973&geoId=102340689&keywords=part-time%20accountant&location=Jersey%20City%2C%20New%20Jersey%2C%20United%20States',\n",
       "  'Company': 'Louis V',\n",
       "  'Qualifications': ''},\n",
       " {'Field': 'Data Analyst',\n",
       "  'Role': 'Business Analytics Lead',\n",
       "  'Link': 'https://www.linkedin.com/jobs/view/1593644446/?refId=5547359991573948256729&trk=d_flagship3_company',\n",
       "  'Company': 'Ribbon',\n",
       "  'Qualifications': 'BI, SQL, Reporting'},\n",
       " {'Field': 'Accounting',\n",
       "  'Role': 'Senior Accountant',\n",
       "  'Link': 'https://www.linkedin.com/jobs/view/1565098323/?refId=5547359991573948256729&trk=d_flagship3_company',\n",
       "  'Company': 'Ribbon',\n",
       "  'Qualifications': '3-5 Accounting |Big 4 & CPA'},\n",
       " {'Field': 'Data Analyst',\n",
       "  'Role': 'Systems/Data Analyst, Pricing',\n",
       "  'Link': 'https://www.linkedin.com/jobs/view/1566386500/?eBP=NotAvailableFromVoyagerAPI&refId=090ac77d-1310-40a3-9073-a89d9a70242f&trk=d_flagship3_search_srp_jobs',\n",
       "  'Company': 'Squarespace',\n",
       "  'Qualifications': ''},\n",
       " {'Field': 'Accounting',\n",
       "  'Role': 'Accounting Manager',\n",
       "  'Link': 'https://www.linkedin.com/jobs/search/?f_C=2601253&geoId=90000070&location=New%20York%20City%20Metropolitan%20Area&locationId=OTHERS.worldwide',\n",
       "  'Company': 'DigitalOcean',\n",
       "  'Qualifications': ''},\n",
       " {'Field': 'Accounting',\n",
       "  'Role': 'Senior Analyst, Sales and Service Enablement',\n",
       "  'Link': 'https://careers-etrade.icims.com/jobs/13244/senior-analyst%2c-sales-and-service-enablement/job',\n",
       "  'Company': 'Etrade',\n",
       "  'Qualifications': ''},\n",
       " {'Field': 'Accounting',\n",
       "  'Role': 'Senior Manager, Financial Planning & Analysis',\n",
       "  'Link': 'https://careers-etrade.icims.com/jobs/13244/senior-analyst%2c-sales-and-service-enablement/job',\n",
       "  'Company': 'Etrade',\n",
       "  'Qualifications': ''},\n",
       " {'Field': 'Accounting',\n",
       "  'Role': 'Senior Accountant',\n",
       "  'Link': 'https://www.linkedin.com/jobs/view/1541365866/?alternateChannel=topapp&alternateCode=seturl&eBP=DummyToken&recommendedFlavor=SCHOOL_RECRUIT&refId=88755aeb-8b7d-43e2-8fac-261a058beed2&trk=d_flagship3_job_home',\n",
       "  'Company': 'MakerBot',\n",
       "  'Qualifications': '~ looks like mostly A/R'},\n",
       " {'Field': 'Data Analyst',\n",
       "  'Role': 'Data Analyst',\n",
       "  'Link': 'https://www.linkedin.com/jobs/view/1611077041/?alternateChannel=smljob',\n",
       "  'Company': 'Tishman Speyer',\n",
       "  'Qualifications': 'Math/Statistics/ML'},\n",
       " {'Field': 'Accounting',\n",
       "  'Role': 'Staff Accountant',\n",
       "  'Link': 'https://www.linkedin.com/jobs/view/1515119685/?alternateChannel=paview&alternateCode=seturl&eBP=CwEAAAFuenA1e28GDHB38OtReY50BHszsBCT3h3Zd_BW7jAO2XWIBJmXQLkotl3GKTgYp8JNNlNzCL1de5fGxcmgmQZnW1l3_pOtm7j1tQquWxpYyWO06PCSPcYdtYSWuX1DAI5Xy146Kh7e_67t9AASGxv-LJqlDRD0itEa48g36CsbYYd1eWj5z-eux7GWJQdS3pSRE59Xw7aDoIKTsxhpB5LS8MtBgNEWfBwsfHHe3ZDd-AonU45o-tRgya1Wi5W6IB3EmvPZVLoxPxKy09QY2OQ5fYIR2V-irkevl6A1EcefVWxC20qj6n9z_minb8fIeJOJBRCsV8sxvBp7ezUnIa98I1NU6n97v9A&refId=ffa00ed6-e235-4b36-a45f-19ef954c59ce&trk=d_flagship3_job_details',\n",
       "  'Company': 'Quantitative Systems',\n",
       "  'Qualifications': 'Consolidated Financial Statements'},\n",
       " {'Field': 'Data Analyst',\n",
       "  'Role': 'Data Manager',\n",
       "  'Link': 'https://trexgroup.bamboohr.com/jobs/view.php?id=50',\n",
       "  'Company': 'T REX',\n",
       "  'Qualifications': 'Big Data'},\n",
       " {'Field': 'Data Analyst',\n",
       "  'Role': 'Finance, Business Insights & Analytics',\n",
       "  'Link': 'https://www.squarespace.com/careers/jobs/1783256',\n",
       "  'Company': 'Squarespace',\n",
       "  'Qualifications': 'Data driven decsion making'},\n",
       " {'Field': 'Data Analyst',\n",
       "  'Role': 'Systems/Data Analyst, Pricing',\n",
       "  'Link': 'https://www.squarespace.com/careers/jobs/1959870',\n",
       "  'Company': 'Squarespace',\n",
       "  'Qualifications': '*look at key words*'},\n",
       " {'Field': 'Data Analyst',\n",
       "  'Role': 'Senior Financial Analyst, Revenue',\n",
       "  'Link': 'https://www.squarespace.com/careers/jobs/1875357',\n",
       "  'Company': 'Squarespace',\n",
       "  'Qualifications': 'Good Chance!'},\n",
       " {'Field': 'Data Analyst',\n",
       "  'Role': 'Associate Data Engineer',\n",
       "  'Link': 'https://www.stashinvest.com/careers/job?gh_jid=1961609',\n",
       "  'Company': 'Stash',\n",
       "  'Qualifications': 'No Apache -.-'},\n",
       " {'Field': 'Data Analyst',\n",
       "  'Role': 'Staff Software Engineer',\n",
       "  'Link': 'https://jobs.lever.co/socure/a30d274c-93cc-4f66-a8f4-a6d6ce5c10bb',\n",
       "  'Company': 'Socure',\n",
       "  'Qualifications': 'No experience to scale'},\n",
       " {'Field': 'Data Analyst',\n",
       "  'Role': 'Data Associate',\n",
       "  'Link': 'https://boards.greenhouse.io/cbinsights/jobs/105118?utm_campaign=google_jobs_apply&utm_source=google_jobs_apply&utm_medium=organic',\n",
       "  'Company': 'CB Insights',\n",
       "  'Qualifications': 'Good Chance!'},\n",
       " {'Field': 'Data Analyst',\n",
       "  'Role': 'Senior Data Analyst',\n",
       "  'Link': 'https://jobs.smartrecruiters.com/Attune1/743999696475922',\n",
       "  'Company': 'Attune',\n",
       "  'Qualifications': ''},\n",
       " {'Field': 'Accounting',\n",
       "  'Role': 'Financial Analyst',\n",
       "  'Link': 'https://stackoverflow.com/company/work-here/1958856/fpa-sr-analyst',\n",
       "  'Company': 'Stock Overflow',\n",
       "  'Qualifications': ''},\n",
       " {'Field': 'Data Analyst',\n",
       "  'Role': 'Mid-Level Full stack Engineer',\n",
       "  'Link': 'https://boards.greenhouse.io/giantmachines/jobs/4262754002',\n",
       "  'Company': 'Giant Machines',\n",
       "  'Qualifications': 'You’re going to have to sell yourself'},\n",
       " {'Field': 'Data Analyst',\n",
       "  'Role': 'Staff Software Engineer',\n",
       "  'Link': 'https://www.getbread.com/job/?gh_jid=1717951',\n",
       "  'Company': 'Bread Finance',\n",
       "  'Qualifications': 'CONFIDENCE'},\n",
       " {'Field': 'Accounting',\n",
       "  'Role': 'Production Accountant',\n",
       "  'Link': 'https://www.audiblecareers.com/job/newark/production-accountant/27552/14046676',\n",
       "  'Company': 'Audible, Inc.',\n",
       "  'Qualifications': 'YOU.GOT.THIS'},\n",
       " {'Field': 'Data Analyst',\n",
       "  'Role': 'Product Analyst',\n",
       "  'Link': 'https://www.audiblecareers.com/job/newark/product-analyst/27552/14016771',\n",
       "  'Company': 'Audible, Inc.',\n",
       "  'Qualifications': ''}]"
      ]
     },
     "execution_count": 7,
     "metadata": {},
     "output_type": "execute_result"
    }
   ],
   "source": [
    "job_listings_details"
   ]
  },
  {
   "cell_type": "markdown",
   "metadata": {},
   "source": [
    "#### Seperate Roles by Field"
   ]
  },
  {
   "cell_type": "code",
   "execution_count": 9,
   "metadata": {},
   "outputs": [
    {
     "data": {
      "text/plain": [
       "23"
      ]
     },
     "execution_count": 9,
     "metadata": {},
     "output_type": "execute_result"
    }
   ],
   "source": [
    "# to count the number of listings to review\n",
    "num_of_listings = len(job_listings_details)\n",
    "num_of_listings"
   ]
  },
  {
   "cell_type": "code",
   "execution_count": 19,
   "metadata": {},
   "outputs": [
    {
     "name": "stdout",
     "output_type": "stream",
     "text": [
      "Stored Link for Senior Staff Accountant Role\n",
      "Stored Link for Business Analytics Lead Role\n",
      "Stored Link for Senior Accountant Role\n",
      "Stored Link for Systems/Data Analyst, Pricing Role\n",
      "Stored Link for Accounting Manager Role\n",
      "Stored Link for Senior Analyst, Sales and Service Enablement Role\n",
      "Stored Link for Senior Manager, Financial Planning & Analysis Role\n",
      "Stored Link for Senior Accountant Role\n",
      "Stored Link for Data Analyst Role\n",
      "Stored Link for Staff Accountant Role\n",
      "Stored Link for Data Manager Role\n",
      "Stored Link for Finance, Business Insights & Analytics Role\n",
      "Stored Link for Systems/Data Analyst, Pricing Role\n",
      "Stored Link for Senior Financial Analyst, Revenue Role\n",
      "Stored Link for Associate Data Engineer Role\n",
      "Stored Link for Staff Software Engineer Role\n",
      "Stored Link for Data Associate Role\n",
      "Stored Link for Senior Data Analyst Role\n",
      "Stored Link for Financial Analyst Role\n",
      "Stored Link for Mid-Level Full stack Engineer Role\n",
      "Stored Link for Staff Software Engineer Role\n",
      "Stored Link for Production Accountant Role\n",
      "Stored Link for Product Analyst Role\n"
     ]
    }
   ],
   "source": [
    "# to loop through dataset and seperate job links by listing\n",
    "i = 0 \n",
    "\n",
    "acct_job = []\n",
    "data_job = []\n",
    "\n",
    "while i < num_of_listings:\n",
    "    \n",
    "    # variables\n",
    "    role_details = job_listings_details[i]\n",
    "    job = job_listings_details[i]['Role']\n",
    "    field = job_listings_details[i]['Field']\n",
    "    \n",
    "    if field == 'Accounting':\n",
    "        acct_job.append(role_details)\n",
    "    elif field == 'Data Analyst':\n",
    "        data_job.append(role_details)\n",
    "    else:\n",
    "        print('Role Undefined')\n",
    "    \n",
    "    \n",
    "    # notification\n",
    "    print(f'Stored Link for {job} Role')\n",
    "    \n",
    "    i += 1"
   ]
  },
  {
   "cell_type": "code",
   "execution_count": 21,
   "metadata": {},
   "outputs": [
    {
     "data": {
      "text/plain": [
       "[{'Field': 'Data Analyst',\n",
       "  'Role': 'Business Analytics Lead',\n",
       "  'Link': 'https://www.linkedin.com/jobs/view/1593644446/?refId=5547359991573948256729&trk=d_flagship3_company',\n",
       "  'Company': 'Ribbon',\n",
       "  'Qualifications': 'BI, SQL, Reporting'},\n",
       " {'Field': 'Data Analyst',\n",
       "  'Role': 'Systems/Data Analyst, Pricing',\n",
       "  'Link': 'https://www.linkedin.com/jobs/view/1566386500/?eBP=NotAvailableFromVoyagerAPI&refId=090ac77d-1310-40a3-9073-a89d9a70242f&trk=d_flagship3_search_srp_jobs',\n",
       "  'Company': 'Squarespace',\n",
       "  'Qualifications': ''},\n",
       " {'Field': 'Data Analyst',\n",
       "  'Role': 'Data Analyst',\n",
       "  'Link': 'https://www.linkedin.com/jobs/view/1611077041/?alternateChannel=smljob',\n",
       "  'Company': 'Tishman Speyer',\n",
       "  'Qualifications': 'Math/Statistics/ML'}]"
      ]
     },
     "execution_count": 21,
     "metadata": {},
     "output_type": "execute_result"
    }
   ],
   "source": [
    "# review result\n",
    "data_job[0:3]"
   ]
  },
  {
   "cell_type": "code",
   "execution_count": 25,
   "metadata": {},
   "outputs": [
    {
     "name": "stdout",
     "output_type": "stream",
     "text": [
      "Finalized Categorizing Listings\n"
     ]
    }
   ],
   "source": [
    "# item check\n",
    "total_result = acct_job + data_job\n",
    "check_result = len(total_result)\n",
    "result_var = check_result - num_of_listings\n",
    "\n",
    "# statement\n",
    "if result_var == 0:\n",
    "    print('Finalized Categorizing Listings')\n",
    "else:\n",
    "    print('Missing Listings in Final Result')"
   ]
  },
  {
   "cell_type": "markdown",
   "metadata": {},
   "source": [
    "#### Review Links by Role Category"
   ]
  },
  {
   "cell_type": "code",
   "execution_count": 27,
   "metadata": {},
   "outputs": [
    {
     "name": "stdout",
     "output_type": "stream",
     "text": [
      "9\n",
      "14\n"
     ]
    }
   ],
   "source": [
    "# to review which list is longer\n",
    "num_of_acct_roles = len(acct_job)\n",
    "print(num_of_acct_roles)\n",
    "\n",
    "num_of_data_roles = len(data_job)\n",
    "print(num_of_data_roles)"
   ]
  },
  {
   "cell_type": "markdown",
   "metadata": {},
   "source": [
    "#### <font color='blue'> Accounting </font>"
   ]
  },
  {
   "cell_type": "code",
   "execution_count": 59,
   "metadata": {},
   "outputs": [
    {
     "name": "stdout",
     "output_type": "stream",
     "text": [
      "linkedin\n",
      "linkedin\n",
      "linkedin\n",
      "careers-etrade.icims\n",
      "careers-etrade.icims\n",
      "linkedin\n",
      "linkedin\n",
      "stackoverflow\n",
      "audiblecareers\n"
     ]
    }
   ],
   "source": [
    "# to review source of links\n",
    "link_source = []\n",
    "\n",
    "links = []\n",
    "\n",
    "for result in acct_job:\n",
    "    \n",
    "    link = result['Link']\n",
    "    \n",
    "    try:\n",
    "        link_body = link.split(\"www.\",1)[1]\n",
    "        link_source_site = link_body.split(\".com\",1)[0]\n",
    "\n",
    "        \n",
    "    \n",
    "    except IndexError:\n",
    "        link_body = link.split(\"https://\",1)[1]\n",
    "        link_source_site = link_body.split(\".com\",1)[0]\n",
    "        \n",
    "    link_source.append(link_source_site)\n",
    "    links.append(link)\n",
    "    \n",
    "    print(link_source_site)"
   ]
  },
  {
   "cell_type": "code",
   "execution_count": 60,
   "metadata": {},
   "outputs": [
    {
     "name": "stdout",
     "output_type": "stream",
     "text": [
      "Completed Review\n"
     ]
    }
   ],
   "source": [
    "# to check that the review did not miss an error\n",
    "\n",
    "if num_of_acct_roles == len(link_source):\n",
    "    print('Completed Review')\n",
    "else:\n",
    "    print('Missing Accounting Listings')"
   ]
  },
  {
   "cell_type": "code",
   "execution_count": 61,
   "metadata": {},
   "outputs": [
    {
     "data": {
      "text/plain": [
       "['linkedin',\n",
       " 'linkedin',\n",
       " 'linkedin',\n",
       " 'careers-etrade.icims',\n",
       " 'careers-etrade.icims',\n",
       " 'linkedin',\n",
       " 'linkedin',\n",
       " 'stackoverflow',\n",
       " 'audiblecareers']"
      ]
     },
     "execution_count": 61,
     "metadata": {},
     "output_type": "execute_result"
    }
   ],
   "source": [
    "# to review final link sources\n",
    "\n",
    "link_source"
   ]
  },
  {
   "cell_type": "code",
   "execution_count": 62,
   "metadata": {},
   "outputs": [
    {
     "data": {
      "text/plain": [
       "['stackoverflow', 'careers-etrade.icims', 'audiblecareers', 'linkedin']"
      ]
     },
     "execution_count": 62,
     "metadata": {},
     "output_type": "execute_result"
    }
   ],
   "source": [
    "# to review the difference formats that the webscrapping will have to account for\n",
    "\n",
    "link_sources = list(set(link_source))\n",
    "link_sources"
   ]
  },
  {
   "cell_type": "code",
   "execution_count": 63,
   "metadata": {},
   "outputs": [
    {
     "data": {
      "text/plain": [
       "['https://www.linkedin.com/jobs/search/?currentJobId=1520659973&geoId=102340689&keywords=part-time%20accountant&location=Jersey%20City%2C%20New%20Jersey%2C%20United%20States',\n",
       " 'https://www.linkedin.com/jobs/view/1565098323/?refId=5547359991573948256729&trk=d_flagship3_company',\n",
       " 'https://www.linkedin.com/jobs/search/?f_C=2601253&geoId=90000070&location=New%20York%20City%20Metropolitan%20Area&locationId=OTHERS.worldwide',\n",
       " 'https://careers-etrade.icims.com/jobs/13244/senior-analyst%2c-sales-and-service-enablement/job',\n",
       " 'https://careers-etrade.icims.com/jobs/13244/senior-analyst%2c-sales-and-service-enablement/job',\n",
       " 'https://www.linkedin.com/jobs/view/1541365866/?alternateChannel=topapp&alternateCode=seturl&eBP=DummyToken&recommendedFlavor=SCHOOL_RECRUIT&refId=88755aeb-8b7d-43e2-8fac-261a058beed2&trk=d_flagship3_job_home',\n",
       " 'https://www.linkedin.com/jobs/view/1515119685/?alternateChannel=paview&alternateCode=seturl&eBP=CwEAAAFuenA1e28GDHB38OtReY50BHszsBCT3h3Zd_BW7jAO2XWIBJmXQLkotl3GKTgYp8JNNlNzCL1de5fGxcmgmQZnW1l3_pOtm7j1tQquWxpYyWO06PCSPcYdtYSWuX1DAI5Xy146Kh7e_67t9AASGxv-LJqlDRD0itEa48g36CsbYYd1eWj5z-eux7GWJQdS3pSRE59Xw7aDoIKTsxhpB5LS8MtBgNEWfBwsfHHe3ZDd-AonU45o-tRgya1Wi5W6IB3EmvPZVLoxPxKy09QY2OQ5fYIR2V-irkevl6A1EcefVWxC20qj6n9z_minb8fIeJOJBRCsV8sxvBp7ezUnIa98I1NU6n97v9A&refId=ffa00ed6-e235-4b36-a45f-19ef954c59ce&trk=d_flagship3_job_details',\n",
       " 'https://stackoverflow.com/company/work-here/1958856/fpa-sr-analyst',\n",
       " 'https://www.audiblecareers.com/job/newark/production-accountant/27552/14046676']"
      ]
     },
     "execution_count": 63,
     "metadata": {},
     "output_type": "execute_result"
    }
   ],
   "source": [
    "links"
   ]
  },
  {
   "cell_type": "markdown",
   "metadata": {},
   "source": [
    "#### Unique Identifiers for Webscrapping by link_sources:\n",
    "\n",
    "LinkedIn ID = job-details <br>\n",
    "Etrade Class = iCIMS_Expandable_Text <br>\n",
    "Audible Class =  ats-description & after-desc-extra-info <br>\n",
    "StackOverflow ID = content <br>"
   ]
  }
 ],
 "metadata": {
  "kernelspec": {
   "display_name": "Python [conda env:pythondata] *",
   "language": "python",
   "name": "conda-env-pythondata-py"
  },
  "language_info": {
   "codemirror_mode": {
    "name": "ipython",
    "version": 3
   },
   "file_extension": ".py",
   "mimetype": "text/x-python",
   "name": "python",
   "nbconvert_exporter": "python",
   "pygments_lexer": "ipython3",
   "version": "3.7.4"
  }
 },
 "nbformat": 4,
 "nbformat_minor": 2
}
